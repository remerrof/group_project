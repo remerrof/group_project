{
 "cells": [
  {
   "cell_type": "markdown",
   "id": "6002beba-4753-4d2e-a404-2dc20e61a370",
   "metadata": {},
   "source": [
    "**Methods/Results**"
   ]
  },
  {
   "cell_type": "code",
   "execution_count": 31,
   "id": "a32bdb00-4925-4681-ba9c-260a8cd9eb0b",
   "metadata": {
    "tags": []
   },
   "outputs": [
    {
     "name": "stdout",
     "output_type": "stream",
     "text": [
      "<class 'pandas.core.frame.DataFrame'>\n",
      "RangeIndex: 17898 entries, 0 to 17897\n",
      "Data columns (total 9 columns):\n",
      " #   Column                  Non-Null Count  Dtype  \n",
      "---  ------                  --------------  -----  \n",
      " 0   integrated_mean         17898 non-null  float64\n",
      " 1   integrated_sd           17898 non-null  float64\n",
      " 2   integrated_xs_kurtosis  17898 non-null  float64\n",
      " 3   integrated_skewness     17898 non-null  float64\n",
      " 4   dmsnr_mean              17898 non-null  float64\n",
      " 5   dmsnr_sd                17898 non-null  float64\n",
      " 6   dmsnr_xs_kurtosis       17898 non-null  float64\n",
      " 7   dmsnr_skewness          17898 non-null  float64\n",
      " 8   class                   17898 non-null  object \n",
      "dtypes: float64(8), object(1)\n",
      "memory usage: 1.2+ MB\n"
     ]
    }
   ],
   "source": [
    "import pandas as pd\n",
    "import altair as alt\n",
    "import numpy as np\n",
    "\n",
    "url= \"https://docs.google.com/spreadsheets/d/e/2PACX-1vROC4kgO6ctTkCjDooBh4Gc_VW7fsUeIgSiPTtcHV0FjFumQclEF8b3ThtxYAJQPyDmRN61OpR4gnpr/pub?output=csv\"\n",
    "pulsar_data = pd.read_csv(url, header= None, names =[\n",
    "    \"integrated_mean\",\n",
    "    \"integrated_sd\",\n",
    "    \"integrated_xs_kurtosis\",\n",
    "    \"integrated_skewness\",\n",
    "    \"dmsnr_mean\",\n",
    "    \"dmsnr_sd\",\n",
    "    \"dmsnr_xs_kurtosis\",\n",
    "    \"dmsnr_skewness\",\n",
    "    \"class\"\n",
    "],)\n",
    "\n",
    "pulsar_data[\"class\"]=pulsar_data[\"class\"].replace({\n",
    "    0: \"not pulsar\",\n",
    "    1: \"pulsar\"\n",
    "})\n",
    "pulsar_data.info()"
   ]
  },
  {
   "cell_type": "markdown",
   "id": "43b01844-efab-430e-b7d0-e13a2fc1c254",
   "metadata": {},
   "source": [
    "*Table 1: Summary of Original Data from Pulsar Database*"
   ]
  },
  {
   "cell_type": "code",
   "execution_count": 32,
   "id": "cbd7edfe-da8c-488e-a01f-0126d270b311",
   "metadata": {
    "tags": []
   },
   "outputs": [
    {
     "data": {
      "text/html": [
       "<div>\n",
       "<style scoped>\n",
       "    .dataframe tbody tr th:only-of-type {\n",
       "        vertical-align: middle;\n",
       "    }\n",
       "\n",
       "    .dataframe tbody tr th {\n",
       "        vertical-align: top;\n",
       "    }\n",
       "\n",
       "    .dataframe thead th {\n",
       "        text-align: right;\n",
       "    }\n",
       "</style>\n",
       "<table border=\"1\" class=\"dataframe\">\n",
       "  <thead>\n",
       "    <tr style=\"text-align: right;\">\n",
       "      <th></th>\n",
       "      <th>integrated_mean</th>\n",
       "      <th>integrated_sd</th>\n",
       "      <th>integrated_xs_kurtosis</th>\n",
       "      <th>integrated_skewness</th>\n",
       "      <th>class</th>\n",
       "    </tr>\n",
       "  </thead>\n",
       "  <tbody>\n",
       "    <tr>\n",
       "      <th>0</th>\n",
       "      <td>140.562500</td>\n",
       "      <td>55.683782</td>\n",
       "      <td>-0.234571</td>\n",
       "      <td>-0.699648</td>\n",
       "      <td>not pulsar</td>\n",
       "    </tr>\n",
       "    <tr>\n",
       "      <th>1</th>\n",
       "      <td>102.507812</td>\n",
       "      <td>58.882430</td>\n",
       "      <td>0.465318</td>\n",
       "      <td>-0.515088</td>\n",
       "      <td>not pulsar</td>\n",
       "    </tr>\n",
       "    <tr>\n",
       "      <th>2</th>\n",
       "      <td>103.015625</td>\n",
       "      <td>39.341649</td>\n",
       "      <td>0.323328</td>\n",
       "      <td>1.051164</td>\n",
       "      <td>not pulsar</td>\n",
       "    </tr>\n",
       "    <tr>\n",
       "      <th>3</th>\n",
       "      <td>136.750000</td>\n",
       "      <td>57.178449</td>\n",
       "      <td>-0.068415</td>\n",
       "      <td>-0.636238</td>\n",
       "      <td>not pulsar</td>\n",
       "    </tr>\n",
       "    <tr>\n",
       "      <th>4</th>\n",
       "      <td>88.726562</td>\n",
       "      <td>40.672225</td>\n",
       "      <td>0.600866</td>\n",
       "      <td>1.123492</td>\n",
       "      <td>not pulsar</td>\n",
       "    </tr>\n",
       "    <tr>\n",
       "      <th>5</th>\n",
       "      <td>93.570312</td>\n",
       "      <td>46.698114</td>\n",
       "      <td>0.531905</td>\n",
       "      <td>0.416721</td>\n",
       "      <td>not pulsar</td>\n",
       "    </tr>\n",
       "    <tr>\n",
       "      <th>6</th>\n",
       "      <td>119.484375</td>\n",
       "      <td>48.765059</td>\n",
       "      <td>0.031460</td>\n",
       "      <td>-0.112168</td>\n",
       "      <td>not pulsar</td>\n",
       "    </tr>\n",
       "    <tr>\n",
       "      <th>7</th>\n",
       "      <td>130.382812</td>\n",
       "      <td>39.844056</td>\n",
       "      <td>-0.158323</td>\n",
       "      <td>0.389540</td>\n",
       "      <td>not pulsar</td>\n",
       "    </tr>\n",
       "    <tr>\n",
       "      <th>8</th>\n",
       "      <td>107.250000</td>\n",
       "      <td>52.627078</td>\n",
       "      <td>0.452688</td>\n",
       "      <td>0.170347</td>\n",
       "      <td>not pulsar</td>\n",
       "    </tr>\n",
       "    <tr>\n",
       "      <th>9</th>\n",
       "      <td>107.257812</td>\n",
       "      <td>39.496488</td>\n",
       "      <td>0.465882</td>\n",
       "      <td>1.162877</td>\n",
       "      <td>not pulsar</td>\n",
       "    </tr>\n",
       "  </tbody>\n",
       "</table>\n",
       "</div>"
      ],
      "text/plain": [
       "   integrated_mean  integrated_sd  integrated_xs_kurtosis  \\\n",
       "0       140.562500      55.683782               -0.234571   \n",
       "1       102.507812      58.882430                0.465318   \n",
       "2       103.015625      39.341649                0.323328   \n",
       "3       136.750000      57.178449               -0.068415   \n",
       "4        88.726562      40.672225                0.600866   \n",
       "5        93.570312      46.698114                0.531905   \n",
       "6       119.484375      48.765059                0.031460   \n",
       "7       130.382812      39.844056               -0.158323   \n",
       "8       107.250000      52.627078                0.452688   \n",
       "9       107.257812      39.496488                0.465882   \n",
       "\n",
       "   integrated_skewness       class  \n",
       "0            -0.699648  not pulsar  \n",
       "1            -0.515088  not pulsar  \n",
       "2             1.051164  not pulsar  \n",
       "3            -0.636238  not pulsar  \n",
       "4             1.123492  not pulsar  \n",
       "5             0.416721  not pulsar  \n",
       "6            -0.112168  not pulsar  \n",
       "7             0.389540  not pulsar  \n",
       "8             0.170347  not pulsar  \n",
       "9             1.162877  not pulsar  "
      ]
     },
     "execution_count": 32,
     "metadata": {},
     "output_type": "execute_result"
    }
   ],
   "source": [
    "pulsar_data = pulsar_data.drop(columns=[\"dmsnr_mean\", \"dmsnr_sd\", \"dmsnr_xs_kurtosis\", \"dmsnr_skewness\"])\n",
    "pulsar_data.head(10)"
   ]
  },
  {
   "cell_type": "markdown",
   "id": "7af7ae26-3722-45ca-af0c-8bfd7a94e83c",
   "metadata": {},
   "source": [
    "*Table 2: First 10 Rows of the Processed Pulsar Data Set*"
   ]
  },
  {
   "cell_type": "code",
   "execution_count": null,
   "id": "a0c2e238-290f-4d82-9d76-7f84fd37f2f6",
   "metadata": {},
   "outputs": [],
   "source": []
  }
 ],
 "metadata": {
  "kernelspec": {
   "display_name": "Python 3 (ipykernel)",
   "language": "python",
   "name": "python3"
  },
  "language_info": {
   "codemirror_mode": {
    "name": "ipython",
    "version": 3
   },
   "file_extension": ".py",
   "mimetype": "text/x-python",
   "name": "python",
   "nbconvert_exporter": "python",
   "pygments_lexer": "ipython3",
   "version": "3.10.8"
  }
 },
 "nbformat": 4,
 "nbformat_minor": 5
}

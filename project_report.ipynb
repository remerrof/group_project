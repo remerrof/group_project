{
 "cells": [
  {
   "cell_type": "markdown",
   "id": "6002beba-4753-4d2e-a404-2dc20e61a370",
   "metadata": {},
   "source": [
    "**Methods/Results**"
   ]
  },
  {
   "cell_type": "code",
   "execution_count": 1,
   "id": "a32bdb00-4925-4681-ba9c-260a8cd9eb0b",
   "metadata": {
    "tags": []
   },
   "outputs": [],
   "source": [
    "import pandas as pd\n",
    "import altair as alt\n",
    "import numpy as np"
   ]
  },
  {
   "cell_type": "code",
   "execution_count": null,
   "id": "cbd7edfe-da8c-488e-a01f-0126d270b311",
   "metadata": {},
   "outputs": [],
   "source": []
  }
 ],
 "metadata": {
  "kernelspec": {
   "display_name": "Python 3 (ipykernel)",
   "language": "python",
   "name": "python3"
  },
  "language_info": {
   "codemirror_mode": {
    "name": "ipython",
    "version": 3
   },
   "file_extension": ".py",
   "mimetype": "text/x-python",
   "name": "python",
   "nbconvert_exporter": "python",
   "pygments_lexer": "ipython3",
   "version": "3.10.8"
  }
 },
 "nbformat": 4,
 "nbformat_minor": 5
}

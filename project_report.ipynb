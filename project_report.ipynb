{
 "cells": [
  {
   "cell_type": "markdown",
   "id": "6002beba-4753-4d2e-a404-2dc20e61a370",
   "metadata": {},
   "source": [
    "**Methods/Results**"
   ]
  },
  {
   "cell_type": "code",
   "execution_count": 10,
   "id": "a32bdb00-4925-4681-ba9c-260a8cd9eb0b",
   "metadata": {
    "tags": []
   },
   "outputs": [
    {
     "name": "stdout",
     "output_type": "stream",
     "text": [
      "<class 'pandas.core.frame.DataFrame'>\n",
      "RangeIndex: 17898 entries, 0 to 17897\n",
      "Data columns (total 9 columns):\n",
      " #   Column                  Non-Null Count  Dtype  \n",
      "---  ------                  --------------  -----  \n",
      " 0   integrated_mean         17898 non-null  float64\n",
      " 1   integrated_sd           17898 non-null  float64\n",
      " 2   integrated_xs_kurtosis  17898 non-null  float64\n",
      " 3   integrated_skewness     17898 non-null  float64\n",
      " 4   dmsnr_mean              17898 non-null  float64\n",
      " 5   dmsnr_sd                17898 non-null  float64\n",
      " 6   dmsnr_xs_kurtosis       17898 non-null  float64\n",
      " 7   dmsnr_skewness          17898 non-null  float64\n",
      " 8   class                   17898 non-null  object \n",
      "dtypes: float64(8), object(1)\n",
      "memory usage: 1.2+ MB\n"
     ]
    }
   ],
   "source": [
    "import pandas as pd\n",
    "import altair as alt\n",
    "import numpy as np\n",
    "\n",
    "url= \"https://docs.google.com/spreadsheets/d/e/2PACX-1vROC4kgO6ctTkCjDooBh4Gc_VW7fsUeIgSiPTtcHV0FjFumQclEF8b3ThtxYAJQPyDmRN61OpR4gnpr/pub?output=csv\"\n",
    "pulsar_data = pd.read_csv(url, header= None, names =[\n",
    "    \"integrated_mean\",\n",
    "    \"integrated_sd\",\n",
    "    \"integrated_xs_kurtosis\",\n",
    "    \"integrated_skewness\",\n",
    "    \"dmsnr_mean\",\n",
    "    \"dmsnr_sd\",\n",
    "    \"dmsnr_xs_kurtosis\",\n",
    "    \"dmsnr_skewness\",\n",
    "    \"class\"\n",
    "],)\n",
    "\n",
    "pulsar_data[\"class\"]=pulsar_data[\"class\"].replace({\n",
    "    0: \"not pulsar\",\n",
    "    1: \"pulsar\"\n",
    "})\n",
    "pulsar_data.info()"
   ]
  },
  {
   "cell_type": "markdown",
   "id": "43b01844-efab-430e-b7d0-e13a2fc1c254",
   "metadata": {},
   "source": [
    "*Fig 1: Summary of Original Data from Pulsar Database*"
   ]
  },
  {
   "cell_type": "code",
   "execution_count": 11,
   "id": "cbd7edfe-da8c-488e-a01f-0126d270b311",
   "metadata": {
    "tags": []
   },
   "outputs": [
    {
     "data": {
      "text/html": [
       "<div>\n",
       "<style scoped>\n",
       "    .dataframe tbody tr th:only-of-type {\n",
       "        vertical-align: middle;\n",
       "    }\n",
       "\n",
       "    .dataframe tbody tr th {\n",
       "        vertical-align: top;\n",
       "    }\n",
       "\n",
       "    .dataframe thead th {\n",
       "        text-align: right;\n",
       "    }\n",
       "</style>\n",
       "<table border=\"1\" class=\"dataframe\">\n",
       "  <thead>\n",
       "    <tr style=\"text-align: right;\">\n",
       "      <th></th>\n",
       "      <th>integrated_mean</th>\n",
       "      <th>integrated_sd</th>\n",
       "      <th>integrated_xs_kurtosis</th>\n",
       "      <th>integrated_skewness</th>\n",
       "      <th>class</th>\n",
       "    </tr>\n",
       "  </thead>\n",
       "  <tbody>\n",
       "    <tr>\n",
       "      <th>0</th>\n",
       "      <td>140.562500</td>\n",
       "      <td>55.683782</td>\n",
       "      <td>-0.234571</td>\n",
       "      <td>-0.699648</td>\n",
       "      <td>not pulsar</td>\n",
       "    </tr>\n",
       "    <tr>\n",
       "      <th>1</th>\n",
       "      <td>102.507812</td>\n",
       "      <td>58.882430</td>\n",
       "      <td>0.465318</td>\n",
       "      <td>-0.515088</td>\n",
       "      <td>not pulsar</td>\n",
       "    </tr>\n",
       "    <tr>\n",
       "      <th>2</th>\n",
       "      <td>103.015625</td>\n",
       "      <td>39.341649</td>\n",
       "      <td>0.323328</td>\n",
       "      <td>1.051164</td>\n",
       "      <td>not pulsar</td>\n",
       "    </tr>\n",
       "    <tr>\n",
       "      <th>3</th>\n",
       "      <td>136.750000</td>\n",
       "      <td>57.178449</td>\n",
       "      <td>-0.068415</td>\n",
       "      <td>-0.636238</td>\n",
       "      <td>not pulsar</td>\n",
       "    </tr>\n",
       "    <tr>\n",
       "      <th>4</th>\n",
       "      <td>88.726562</td>\n",
       "      <td>40.672225</td>\n",
       "      <td>0.600866</td>\n",
       "      <td>1.123492</td>\n",
       "      <td>not pulsar</td>\n",
       "    </tr>\n",
       "    <tr>\n",
       "      <th>5</th>\n",
       "      <td>93.570312</td>\n",
       "      <td>46.698114</td>\n",
       "      <td>0.531905</td>\n",
       "      <td>0.416721</td>\n",
       "      <td>not pulsar</td>\n",
       "    </tr>\n",
       "    <tr>\n",
       "      <th>6</th>\n",
       "      <td>119.484375</td>\n",
       "      <td>48.765059</td>\n",
       "      <td>0.031460</td>\n",
       "      <td>-0.112168</td>\n",
       "      <td>not pulsar</td>\n",
       "    </tr>\n",
       "    <tr>\n",
       "      <th>7</th>\n",
       "      <td>130.382812</td>\n",
       "      <td>39.844056</td>\n",
       "      <td>-0.158323</td>\n",
       "      <td>0.389540</td>\n",
       "      <td>not pulsar</td>\n",
       "    </tr>\n",
       "    <tr>\n",
       "      <th>8</th>\n",
       "      <td>107.250000</td>\n",
       "      <td>52.627078</td>\n",
       "      <td>0.452688</td>\n",
       "      <td>0.170347</td>\n",
       "      <td>not pulsar</td>\n",
       "    </tr>\n",
       "    <tr>\n",
       "      <th>9</th>\n",
       "      <td>107.257812</td>\n",
       "      <td>39.496488</td>\n",
       "      <td>0.465882</td>\n",
       "      <td>1.162877</td>\n",
       "      <td>not pulsar</td>\n",
       "    </tr>\n",
       "  </tbody>\n",
       "</table>\n",
       "</div>"
      ],
      "text/plain": [
       "   integrated_mean  integrated_sd  integrated_xs_kurtosis  \\\n",
       "0       140.562500      55.683782               -0.234571   \n",
       "1       102.507812      58.882430                0.465318   \n",
       "2       103.015625      39.341649                0.323328   \n",
       "3       136.750000      57.178449               -0.068415   \n",
       "4        88.726562      40.672225                0.600866   \n",
       "5        93.570312      46.698114                0.531905   \n",
       "6       119.484375      48.765059                0.031460   \n",
       "7       130.382812      39.844056               -0.158323   \n",
       "8       107.250000      52.627078                0.452688   \n",
       "9       107.257812      39.496488                0.465882   \n",
       "\n",
       "   integrated_skewness       class  \n",
       "0            -0.699648  not pulsar  \n",
       "1            -0.515088  not pulsar  \n",
       "2             1.051164  not pulsar  \n",
       "3            -0.636238  not pulsar  \n",
       "4             1.123492  not pulsar  \n",
       "5             0.416721  not pulsar  \n",
       "6            -0.112168  not pulsar  \n",
       "7             0.389540  not pulsar  \n",
       "8             0.170347  not pulsar  \n",
       "9             1.162877  not pulsar  "
      ]
     },
     "execution_count": 11,
     "metadata": {},
     "output_type": "execute_result"
    }
   ],
   "source": [
    "pulsar_data = pulsar_data.drop(columns=[\"dmsnr_mean\", \"dmsnr_sd\", \"dmsnr_xs_kurtosis\", \"dmsnr_skewness\"])\n",
    "pulsar_data.head(10)"
   ]
  },
  {
   "cell_type": "markdown",
   "id": "7af7ae26-3722-45ca-af0c-8bfd7a94e83c",
   "metadata": {},
   "source": [
    "*Fig 2: First 10 Rows of the Processed Pulsar Data Set*"
   ]
  },
  {
   "cell_type": "code",
   "execution_count": 12,
   "id": "33a2d353-0a48-4394-91d6-6ee3c46666ae",
   "metadata": {
    "tags": []
   },
   "outputs": [
    {
     "name": "stdout",
     "output_type": "stream",
     "text": [
      "<class 'pandas.core.frame.DataFrame'>\n",
      "Int64Index: 13423 entries, 2020 to 12740\n",
      "Data columns (total 5 columns):\n",
      " #   Column                  Non-Null Count  Dtype  \n",
      "---  ------                  --------------  -----  \n",
      " 0   integrated_mean         13423 non-null  float64\n",
      " 1   integrated_sd           13423 non-null  float64\n",
      " 2   integrated_xs_kurtosis  13423 non-null  float64\n",
      " 3   integrated_skewness     13423 non-null  float64\n",
      " 4   class                   13423 non-null  object \n",
      "dtypes: float64(4), object(1)\n",
      "memory usage: 629.2+ KB\n"
     ]
    }
   ],
   "source": [
    "from sklearn.model_selection import train_test_split\n",
    "np.random.seed(1)\n",
    "\n",
    "pulsar_train, pulsar_test = train_test_split(\n",
    "    pulsar_data, train_size=0.75, stratify=pulsar_data[\"class\"]\n",
    ")\n",
    "pulsar_train.info()"
   ]
  },
  {
   "cell_type": "markdown",
   "id": "e2e2ac5c-b431-41d1-9881-0212fcc9abcf",
   "metadata": {},
   "source": [
    "*Fig 3: Pulsar Training Data Summary*"
   ]
  },
  {
   "cell_type": "markdown",
   "id": "44389db2-a880-4dc4-aadd-6eec309da2d8",
   "metadata": {},
   "source": [
    "**Integrated Data Visualization**"
   ]
  },
  {
   "cell_type": "markdown",
   "id": "42db625d-3161-448f-b26a-4b80beaeaa8e",
   "metadata": {
    "tags": []
   },
   "source": [
    "**Building the Classifier**"
   ]
  },
  {
   "cell_type": "code",
   "execution_count": 13,
   "id": "8cdb1665-9ae3-4538-9ea1-1656a0fca220",
   "metadata": {
    "tags": []
   },
   "outputs": [
    {
     "data": {
      "text/plain": [
       "DataTransformerRegistry.enable('default')"
      ]
     },
     "execution_count": 13,
     "metadata": {},
     "output_type": "execute_result"
    }
   ],
   "source": [
    "import matplotlib.pyplot as plt\n",
    "from sklearn import set_config\n",
    "from sklearn.metrics import confusion_matrix\n",
    "from sklearn.model_selection import GridSearchCV, cross_validate\n",
    "from sklearn.neighbors import KNeighborsClassifier\n",
    "\n",
    "alt.data_transformers.disable_max_rows()"
   ]
  },
  {
   "cell_type": "code",
   "execution_count": 15,
   "id": "45d98dc5-4765-4e72-b838-7da6376a9435",
   "metadata": {
    "tags": []
   },
   "outputs": [
    {
     "ename": "TypeError",
     "evalue": "'UndefinedType' object is not callable",
     "output_type": "error",
     "traceback": [
      "\u001b[0;31m---------------------------------------------------------------------------\u001b[0m",
      "\u001b[0;31mTypeError\u001b[0m                                 Traceback (most recent call last)",
      "Cell \u001b[0;32mIn[15], line 32\u001b[0m\n\u001b[1;32m     18\u001b[0m pulsar_grid \u001b[38;5;241m=\u001b[39m GridSearchCV(\n\u001b[1;32m     19\u001b[0m  estimator\u001b[38;5;241m=\u001b[39mpulsar_pipe,\n\u001b[1;32m     20\u001b[0m  param_grid\u001b[38;5;241m=\u001b[39mparameter_grid,\n\u001b[1;32m     21\u001b[0m  cv\u001b[38;5;241m=\u001b[39m\u001b[38;5;241m10\u001b[39m\n\u001b[1;32m     22\u001b[0m )\n\u001b[1;32m     24\u001b[0m pulsar_accuracies_grid \u001b[38;5;241m=\u001b[39m pd\u001b[38;5;241m.\u001b[39mDataFrame(\n\u001b[1;32m     25\u001b[0m  pulsar_grid\u001b[38;5;241m.\u001b[39mfit(\n\u001b[1;32m     26\u001b[0m  pulsar_train[[\u001b[38;5;124m\"\u001b[39m\u001b[38;5;124mintegrated_mean\u001b[39m\u001b[38;5;124m\"\u001b[39m, \u001b[38;5;124m\"\u001b[39m\u001b[38;5;124mintegrated_sd\u001b[39m\u001b[38;5;124m\"\u001b[39m,\u001b[38;5;124m\"\u001b[39m\u001b[38;5;124mintegrated_xs_kurtosis\u001b[39m\u001b[38;5;124m\"\u001b[39m, \u001b[38;5;124m\"\u001b[39m\u001b[38;5;124mintegrated_skewness\u001b[39m\u001b[38;5;124m\"\u001b[39m]],\n\u001b[1;32m     27\u001b[0m  pulsar_train[\u001b[38;5;124m\"\u001b[39m\u001b[38;5;124mclass\u001b[39m\u001b[38;5;124m\"\u001b[39m]\n\u001b[1;32m     28\u001b[0m  )\u001b[38;5;241m.\u001b[39mcv_results_\n\u001b[1;32m     29\u001b[0m )\n\u001b[1;32m     31\u001b[0m pulsar_accuracy_vs_k \u001b[38;5;241m=\u001b[39m alt\u001b[38;5;241m.\u001b[39mChart(pulsar_accuracies_grid)\u001b[38;5;241m.\u001b[39mmark_line(point\u001b[38;5;241m=\u001b[39m\u001b[38;5;28;01mTrue\u001b[39;00m)\u001b[38;5;241m.\u001b[39mencode(\n\u001b[0;32m---> 32\u001b[0m  x\u001b[38;5;241m=\u001b[39m\u001b[43malt\u001b[49m\u001b[38;5;241;43m.\u001b[39;49m\u001b[43mX\u001b[49m\u001b[43m(\u001b[49m\u001b[38;5;124;43m\"\u001b[39;49m\u001b[38;5;124;43mparam_kneighborsclassifier__n_neighbors\u001b[39;49m\u001b[38;5;124;43m\"\u001b[39;49m\u001b[43m)\u001b[49m\u001b[38;5;241;43m.\u001b[39;49m\u001b[43mtitle\u001b[49m\u001b[43m(\u001b[49m\u001b[38;5;124;43m\"\u001b[39;49m\u001b[38;5;124;43mNeighbors\u001b[39;49m\u001b[38;5;124;43m\"\u001b[39;49m\u001b[43m)\u001b[49m,\n\u001b[1;32m     33\u001b[0m  y\u001b[38;5;241m=\u001b[39malt\u001b[38;5;241m.\u001b[39mY(\u001b[38;5;124m\"\u001b[39m\u001b[38;5;124mmean_test_score\u001b[39m\u001b[38;5;124m\"\u001b[39m)\n\u001b[1;32m     34\u001b[0m  \u001b[38;5;241m.\u001b[39mscale(domain\u001b[38;5;241m=\u001b[39m(\u001b[38;5;241m0.60\u001b[39m, \u001b[38;5;241m0.90\u001b[39m))\n\u001b[1;32m     35\u001b[0m  \u001b[38;5;241m.\u001b[39mtitle(\u001b[38;5;124m\"\u001b[39m\u001b[38;5;124mAccuracy estimate\u001b[39m\u001b[38;5;124m\"\u001b[39m)\n\u001b[1;32m     36\u001b[0m )\n\u001b[1;32m     37\u001b[0m pulsar_accuracy_vs_k\n",
      "\u001b[0;31mTypeError\u001b[0m: 'UndefinedType' object is not callable"
     ]
    }
   ],
   "source": [
    "from sklearn.preprocessing import StandardScaler\n",
    "from sklearn.compose import make_column_transformer\n",
    "from sklearn.pipeline import make_pipeline\n",
    "\n",
    "pulsar_preprocessor = make_column_transformer(\n",
    " (StandardScaler(), [\"integrated_mean\", \"integrated_sd\",\"integrated_xs_kurtosis\", \"integrated_skewness\"]),\n",
    "    remainder='passthrough',\n",
    "    verbose_feature_names_out=False\n",
    ")\n",
    "\n",
    "knn = KNeighborsClassifier()\n",
    "pulsar_pipe = make_pipeline(pulsar_preprocessor, knn)\n",
    "parameter_grid = {\n",
    " \"kneighborsclassifier__n_neighbors\": range(1, 100, 5),\n",
    "}\n",
    "\n",
    "from sklearn.model_selection import GridSearchCV\n",
    "pulsar_grid = GridSearchCV(\n",
    " estimator=pulsar_pipe,\n",
    " param_grid=parameter_grid,\n",
    " cv=10\n",
    ")\n",
    "\n",
    "pulsar_accuracies_grid = pd.DataFrame(\n",
    " pulsar_grid.fit(\n",
    " pulsar_train[[\"integrated_mean\", \"integrated_sd\",\"integrated_xs_kurtosis\", \"integrated_skewness\"]],\n",
    " pulsar_train[\"class\"]\n",
    " ).cv_results_\n",
    ")\n",
    "\n",
    "pulsar_accuracy_vs_k = alt.Chart(pulsar_accuracies_grid).mark_line(point=True).encode(\n",
    " x=alt.X(\"param_kneighborsclassifier__n_neighbors\").title(\"Neighbors\"),\n",
    " y=alt.Y(\"mean_test_score\")\n",
    " .scale(domain=(0.60, 0.90))\n",
    " .title(\"Accuracy estimate\")\n",
    ")\n",
    "pulsar_accuracy_vs_k"
   ]
  }
 ],
 "metadata": {
  "kernelspec": {
   "display_name": "Python 3 (ipykernel)",
   "language": "python",
   "name": "python3"
  },
  "language_info": {
   "codemirror_mode": {
    "name": "ipython",
    "version": 3
   },
   "file_extension": ".py",
   "mimetype": "text/x-python",
   "name": "python",
   "nbconvert_exporter": "python",
   "pygments_lexer": "ipython3",
   "version": "3.10.8"
  }
 },
 "nbformat": 4,
 "nbformat_minor": 5
}
